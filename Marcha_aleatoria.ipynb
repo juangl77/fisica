{
 "metadata": {
  "name": "",
  "signature": "sha256:b564b320514f95beaa0efa43d91d0ef5c4dcf28c1be185c2d92025eee8d8dad7"
 },
 "nbformat": 3,
 "nbformat_minor": 0,
 "worksheets": [
  {
   "cells": [
    {
     "cell_type": "code",
     "collapsed": false,
     "input": [
      "%pylab inline\n"
     ],
     "language": "python",
     "metadata": {},
     "outputs": [
      {
       "output_type": "stream",
       "stream": "stdout",
       "text": [
        "Populating the interactive namespace from numpy and matplotlib\n"
       ]
      }
     ],
     "prompt_number": 1
    },
    {
     "cell_type": "code",
     "collapsed": false,
     "input": [
      "#Definiendo marcha aleatoria en 1D\n",
      "def marcha_aleatoria(pasos, distancia):\n",
      "    d = 0.0;\n",
      "    for i in range(pasos):\n",
      "        paso = randint(0,2);\n",
      "        d = d + 2*float(paso) -1;\n",
      "    return d;\n",
      "        \n",
      "marcha_aleatoria(1000,1)\n",
      "\n",
      "            \n",
      "    \n",
      "    "
     ],
     "language": "python",
     "metadata": {},
     "outputs": [
      {
       "metadata": {},
       "output_type": "pyout",
       "prompt_number": 2,
       "text": [
        "-58.0"
       ]
      }
     ],
     "prompt_number": 2
    },
    {
     "cell_type": "code",
     "collapsed": false,
     "input": [
      "#M\u00e9todo que corre varias marchas aleatorias a la vez\n",
      "def varias_marchas(veces, pasos, distancia):\n",
      "    results = []\n",
      "    for i in range(veces):\n",
      "        results.append(marcha_aleatoria(pasos, distancia))\n",
      "    return results\n",
      "\n",
      "varias_marchas(10,100,1)"
     ],
     "language": "python",
     "metadata": {},
     "outputs": [
      {
       "metadata": {},
       "output_type": "pyout",
       "prompt_number": 3,
       "text": [
        "[18.0, -2.0, -2.0, 0.0, -12.0, 2.0, -4.0, -8.0, 6.0, -2.0]"
       ]
      }
     ],
     "prompt_number": 3
    },
    {
     "cell_type": "code",
     "collapsed": false,
     "input": [
      "#M\u00e9todo que realiza el histograma de varias_marchas aleatorias y lo compara con una normal\n",
      "\n",
      "def grafica(veces, pasos, distancia):\n",
      "    data = array(varias_marchas(veces, pasos, distancia))\n",
      "    x = linspace(min(data),max(data))\n",
      "    plot(x,veces*(1/distancia)*sqrt(2/(pasos*3.141592))*exp(-(x**2)/(distancia*distancia*pasos)))\n",
      "    hist(data,len(data))\n",
      "    show()\n",
      "    "
     ],
     "language": "python",
     "metadata": {},
     "outputs": [],
     "prompt_number": 4
    },
    {
     "cell_type": "code",
     "collapsed": false,
     "input": [
      "grafica(1000, 100, 1)"
     ],
     "language": "python",
     "metadata": {},
     "outputs": [
      {
       "metadata": {},
       "output_type": "display_data",
       "png": "[encoded data removed]",
       "text": [
        "<matplotlib.figure.Figure at 0x3a57eb0>"
       ]
      }
     ],
     "prompt_number": 5
    },
    {
     "cell_type": "markdown",
     "metadata": {},
     "source": [
      "Se puede observar que el comportamiento del histograma es similar al de la normal"
     ]
    },
    {
     "cell_type": "code",
     "collapsed": false,
     "input": [
      "# M\u00e9todo que calcula el primer y segundo momento y grafica el segundo momento\n",
      "def mediayr2(veces,max_pasos,distancia):\n",
      "    r = [];\n",
      "    r2 = [];\n",
      "    x =[];\n",
      "    for i in range(int(max_pasos/10)):\n",
      "        data = varias_marchas(veces, i*10, distancia);\n",
      "        r.append(mean(data));\n",
      "        r2.append(var(data) + mean(data)**2);\n",
      "        x.append(i*10);\n",
      "    scatter(x,r)\n",
      "    xlabel(\"Pasos\")\n",
      "    ylabel(\"Media\")\n",
      "    show()\n",
      "    scatter(x,r2)\n",
      "    xlabel(\"Pasos\")\n",
      "    ylabel(\"Segundo momento\")\n",
      "    show()\n",
      "        \n",
      "    "
     ],
     "language": "python",
     "metadata": {},
     "outputs": [],
     "prompt_number": 12
    },
    {
     "cell_type": "code",
     "collapsed": false,
     "input": [
      "mediayr2(100,200,1)"
     ],
     "language": "python",
     "metadata": {},
     "outputs": [
      {
       "metadata": {},
       "output_type": "display_data",
       "png": "[encoded data removed]",
       "text": [
        "<matplotlib.figure.Figure at 0x6c770f0>"
       ]
      },
      {
       "metadata": {},
       "output_type": "display_data",
       "png": "[encoded data removed]",
       "text": [
        "<matplotlib.figure.Figure at 0x6d195b0>"
       ]
      }
     ],
     "prompt_number": 13
    },
    {
     "cell_type": "code",
     "collapsed": false,
     "input": [
      "# M\u00e9todo que determina la constante de difusi\u00f3n\n",
      "def difusion(veces,max_pasos,distancia):\n",
      "    r2 = [];\n",
      "    x =[];\n",
      "    for i in range(int(max_pasos/10)):\n",
      "        data = varias_marchas(veces, i*10, distancia);\n",
      "        r2.append(var(data) + mean(data)**2);\n",
      "        x.append(i*10);\n",
      "    (a,b) = polyfit(array(x),array(r2),1);\n",
      "    print \"La constante de difusi\u00f3n es \" + str(a/2)"
     ],
     "language": "python",
     "metadata": {},
     "outputs": [],
     "prompt_number": 16
    },
    {
     "cell_type": "code",
     "collapsed": false,
     "input": [
      "difusion(100,200,1)"
     ],
     "language": "python",
     "metadata": {},
     "outputs": [
      {
       "output_type": "stream",
       "stream": "stdout",
       "text": [
        "La constante de difusi\u00f3n es 0.477992481203\n"
       ]
      }
     ],
     "prompt_number": 17
    },
    {
     "cell_type": "code",
     "collapsed": false,
     "input": [],
     "language": "python",
     "metadata": {},
     "outputs": []
    }
   ],
   "metadata": {}
  }
 ]
}